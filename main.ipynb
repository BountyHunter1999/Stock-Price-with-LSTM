{
 "cells": [
  {
   "cell_type": "code",
   "execution_count": 2,
   "metadata": {},
   "outputs": [],
   "source": [
    "import numpy as np\n",
    "import pandas as pd\n",
    "import matplotlib.pyplot as plt"
   ]
  },
  {
   "cell_type": "code",
   "execution_count": 3,
   "metadata": {},
   "outputs": [],
   "source": [
    "df = pd.read_csv(\"SBUX.csv\", index_col=\"Date\", parse_dates=True)"
   ]
  },
  {
   "cell_type": "code",
   "execution_count": 4,
   "metadata": {},
   "outputs": [
    {
     "data": {
      "text/html": [
       "<div>\n",
       "<style scoped>\n",
       "    .dataframe tbody tr th:only-of-type {\n",
       "        vertical-align: middle;\n",
       "    }\n",
       "\n",
       "    .dataframe tbody tr th {\n",
       "        vertical-align: top;\n",
       "    }\n",
       "\n",
       "    .dataframe thead th {\n",
       "        text-align: right;\n",
       "    }\n",
       "</style>\n",
       "<table border=\"1\" class=\"dataframe\">\n",
       "  <thead>\n",
       "    <tr style=\"text-align: right;\">\n",
       "      <th></th>\n",
       "      <th>Open</th>\n",
       "      <th>High</th>\n",
       "      <th>Low</th>\n",
       "      <th>Close</th>\n",
       "      <th>Adj Close</th>\n",
       "      <th>Volume</th>\n",
       "    </tr>\n",
       "    <tr>\n",
       "      <th>Date</th>\n",
       "      <th></th>\n",
       "      <th></th>\n",
       "      <th></th>\n",
       "      <th></th>\n",
       "      <th></th>\n",
       "      <th></th>\n",
       "    </tr>\n",
       "  </thead>\n",
       "  <tbody>\n",
       "    <tr>\n",
       "      <th>2019-12-11</th>\n",
       "      <td>86.260002</td>\n",
       "      <td>86.870003</td>\n",
       "      <td>85.849998</td>\n",
       "      <td>86.589996</td>\n",
       "      <td>80.714676</td>\n",
       "      <td>4921900</td>\n",
       "    </tr>\n",
       "    <tr>\n",
       "      <th>2019-12-12</th>\n",
       "      <td>88.000000</td>\n",
       "      <td>88.889999</td>\n",
       "      <td>87.540001</td>\n",
       "      <td>88.209999</td>\n",
       "      <td>82.224754</td>\n",
       "      <td>10282100</td>\n",
       "    </tr>\n",
       "    <tr>\n",
       "      <th>2019-12-13</th>\n",
       "      <td>88.019997</td>\n",
       "      <td>88.790001</td>\n",
       "      <td>87.580002</td>\n",
       "      <td>88.669998</td>\n",
       "      <td>82.653557</td>\n",
       "      <td>6714100</td>\n",
       "    </tr>\n",
       "    <tr>\n",
       "      <th>2019-12-16</th>\n",
       "      <td>89.139999</td>\n",
       "      <td>89.300003</td>\n",
       "      <td>88.430000</td>\n",
       "      <td>88.779999</td>\n",
       "      <td>82.756088</td>\n",
       "      <td>6705600</td>\n",
       "    </tr>\n",
       "    <tr>\n",
       "      <th>2019-12-17</th>\n",
       "      <td>88.870003</td>\n",
       "      <td>88.970001</td>\n",
       "      <td>87.470001</td>\n",
       "      <td>88.129997</td>\n",
       "      <td>82.150185</td>\n",
       "      <td>7296900</td>\n",
       "    </tr>\n",
       "  </tbody>\n",
       "</table>\n",
       "</div>"
      ],
      "text/plain": [
       "                 Open       High        Low      Close  Adj Close    Volume\n",
       "Date                                                                       \n",
       "2019-12-11  86.260002  86.870003  85.849998  86.589996  80.714676   4921900\n",
       "2019-12-12  88.000000  88.889999  87.540001  88.209999  82.224754  10282100\n",
       "2019-12-13  88.019997  88.790001  87.580002  88.669998  82.653557   6714100\n",
       "2019-12-16  89.139999  89.300003  88.430000  88.779999  82.756088   6705600\n",
       "2019-12-17  88.870003  88.970001  87.470001  88.129997  82.150185   7296900"
      ]
     },
     "execution_count": 4,
     "metadata": {},
     "output_type": "execute_result"
    }
   ],
   "source": [
    "df.head()"
   ]
  },
  {
   "cell_type": "code",
   "execution_count": 5,
   "metadata": {},
   "outputs": [
    {
     "data": {
      "text/plain": [
       "Open         float64\n",
       "High         float64\n",
       "Low          float64\n",
       "Close        float64\n",
       "Adj Close    float64\n",
       "Volume         int64\n",
       "dtype: object"
      ]
     },
     "execution_count": 5,
     "metadata": {},
     "output_type": "execute_result"
    }
   ],
   "source": [
    "df.dtypes"
   ]
  },
  {
   "cell_type": "code",
   "execution_count": 6,
   "metadata": {},
   "outputs": [
    {
     "data": {
      "text/html": [
       "<div>\n",
       "<style scoped>\n",
       "    .dataframe tbody tr th:only-of-type {\n",
       "        vertical-align: middle;\n",
       "    }\n",
       "\n",
       "    .dataframe tbody tr th {\n",
       "        vertical-align: top;\n",
       "    }\n",
       "\n",
       "    .dataframe thead th {\n",
       "        text-align: right;\n",
       "    }\n",
       "</style>\n",
       "<table border=\"1\" class=\"dataframe\">\n",
       "  <thead>\n",
       "    <tr style=\"text-align: right;\">\n",
       "      <th></th>\n",
       "      <th>Open</th>\n",
       "      <th>High</th>\n",
       "      <th>Low</th>\n",
       "      <th>Close</th>\n",
       "      <th>Adj Close</th>\n",
       "      <th>Volume</th>\n",
       "    </tr>\n",
       "  </thead>\n",
       "  <tbody>\n",
       "    <tr>\n",
       "      <th>count</th>\n",
       "      <td>253.000000</td>\n",
       "      <td>253.000000</td>\n",
       "      <td>253.000000</td>\n",
       "      <td>253.000000</td>\n",
       "      <td>253.000000</td>\n",
       "      <td>2.530000e+02</td>\n",
       "    </tr>\n",
       "    <tr>\n",
       "      <th>mean</th>\n",
       "      <td>81.977273</td>\n",
       "      <td>82.973043</td>\n",
       "      <td>80.871462</td>\n",
       "      <td>81.998656</td>\n",
       "      <td>77.197637</td>\n",
       "      <td>9.687298e+06</td>\n",
       "    </tr>\n",
       "    <tr>\n",
       "      <th>std</th>\n",
       "      <td>9.228221</td>\n",
       "      <td>8.946584</td>\n",
       "      <td>9.678252</td>\n",
       "      <td>9.272335</td>\n",
       "      <td>8.909895</td>\n",
       "      <td>5.131906e+06</td>\n",
       "    </tr>\n",
       "    <tr>\n",
       "      <th>min</th>\n",
       "      <td>55.549999</td>\n",
       "      <td>57.439999</td>\n",
       "      <td>50.020000</td>\n",
       "      <td>56.330002</td>\n",
       "      <td>52.752609</td>\n",
       "      <td>1.847800e+06</td>\n",
       "    </tr>\n",
       "    <tr>\n",
       "      <th>25%</th>\n",
       "      <td>75.370003</td>\n",
       "      <td>76.370003</td>\n",
       "      <td>74.430000</td>\n",
       "      <td>75.440002</td>\n",
       "      <td>71.048233</td>\n",
       "      <td>6.197700e+06</td>\n",
       "    </tr>\n",
       "    <tr>\n",
       "      <th>50%</th>\n",
       "      <td>82.599998</td>\n",
       "      <td>83.239998</td>\n",
       "      <td>81.750000</td>\n",
       "      <td>82.410004</td>\n",
       "      <td>78.034676</td>\n",
       "      <td>8.238600e+06</td>\n",
       "    </tr>\n",
       "    <tr>\n",
       "      <th>75%</th>\n",
       "      <td>88.500000</td>\n",
       "      <td>89.110001</td>\n",
       "      <td>87.720001</td>\n",
       "      <td>88.510002</td>\n",
       "      <td>82.949127</td>\n",
       "      <td>1.137890e+07</td>\n",
       "    </tr>\n",
       "    <tr>\n",
       "      <th>max</th>\n",
       "      <td>103.510002</td>\n",
       "      <td>106.089996</td>\n",
       "      <td>102.750000</td>\n",
       "      <td>105.389999</td>\n",
       "      <td>100.265205</td>\n",
       "      <td>2.877060e+07</td>\n",
       "    </tr>\n",
       "  </tbody>\n",
       "</table>\n",
       "</div>"
      ],
      "text/plain": [
       "             Open        High         Low       Close   Adj Close  \\\n",
       "count  253.000000  253.000000  253.000000  253.000000  253.000000   \n",
       "mean    81.977273   82.973043   80.871462   81.998656   77.197637   \n",
       "std      9.228221    8.946584    9.678252    9.272335    8.909895   \n",
       "min     55.549999   57.439999   50.020000   56.330002   52.752609   \n",
       "25%     75.370003   76.370003   74.430000   75.440002   71.048233   \n",
       "50%     82.599998   83.239998   81.750000   82.410004   78.034676   \n",
       "75%     88.500000   89.110001   87.720001   88.510002   82.949127   \n",
       "max    103.510002  106.089996  102.750000  105.389999  100.265205   \n",
       "\n",
       "             Volume  \n",
       "count  2.530000e+02  \n",
       "mean   9.687298e+06  \n",
       "std    5.131906e+06  \n",
       "min    1.847800e+06  \n",
       "25%    6.197700e+06  \n",
       "50%    8.238600e+06  \n",
       "75%    1.137890e+07  \n",
       "max    2.877060e+07  "
      ]
     },
     "execution_count": 6,
     "metadata": {},
     "output_type": "execute_result"
    }
   ],
   "source": [
    "df.describe()"
   ]
  },
  {
   "cell_type": "code",
   "execution_count": null,
   "metadata": {},
   "outputs": [],
   "source": []
  },
  {
   "cell_type": "code",
   "execution_count": 7,
   "metadata": {},
   "outputs": [
    {
     "data": {
      "text/plain": [
       "<matplotlib.legend.Legend at 0x2a44f82f0a0>"
      ]
     },
     "execution_count": 7,
     "metadata": {},
     "output_type": "execute_result"
    },
    {
     "data": {
      "image/png": "[encoded data removed]",
      "text/plain": [
       "<Figure size 640x480 with 1 Axes>"
      ]
     },
     "metadata": {},
     "output_type": "display_data"
    }
   ],
   "source": [
    "plt.style.use(\"ggplot\")\n",
    "df[\"Volume\"].plot(label=\"CLOSE\", title=\"Star Bucks Stock Volume\")\n",
    "# df[\"Adj Close\"].plot(label=\"OPEN\", title=\"Star Bucks Stock Volume\")\n",
    "plt.legend()"
   ]
  },
  {
   "cell_type": "code",
   "execution_count": 8,
   "metadata": {},
   "outputs": [],
   "source": [
    "# Won't dive into data exploration here\n",
    "# just here to see lstm in action"
   ]
  },
  {
   "attachments": {},
   "cell_type": "markdown",
   "metadata": {},
   "source": [
    "# DATA PREPROCESSING"
   ]
  },
  {
   "cell_type": "code",
   "execution_count": 9,
   "metadata": {},
   "outputs": [
    {
     "data": {
      "text/html": [
       "<div>\n",
       "<style scoped>\n",
       "    .dataframe tbody tr th:only-of-type {\n",
       "        vertical-align: middle;\n",
       "    }\n",
       "\n",
       "    .dataframe tbody tr th {\n",
       "        vertical-align: top;\n",
       "    }\n",
       "\n",
       "    .dataframe thead th {\n",
       "        text-align: right;\n",
       "    }\n",
       "</style>\n",
       "<table border=\"1\" class=\"dataframe\">\n",
       "  <thead>\n",
       "    <tr style=\"text-align: right;\">\n",
       "      <th></th>\n",
       "      <th>Open</th>\n",
       "      <th>High</th>\n",
       "      <th>Low</th>\n",
       "      <th>Close</th>\n",
       "      <th>Adj Close</th>\n",
       "    </tr>\n",
       "    <tr>\n",
       "      <th>Date</th>\n",
       "      <th></th>\n",
       "      <th></th>\n",
       "      <th></th>\n",
       "      <th></th>\n",
       "      <th></th>\n",
       "    </tr>\n",
       "  </thead>\n",
       "  <tbody>\n",
       "    <tr>\n",
       "      <th>2019-12-11</th>\n",
       "      <td>86.260002</td>\n",
       "      <td>86.870003</td>\n",
       "      <td>85.849998</td>\n",
       "      <td>86.589996</td>\n",
       "      <td>80.714676</td>\n",
       "    </tr>\n",
       "    <tr>\n",
       "      <th>2019-12-12</th>\n",
       "      <td>88.000000</td>\n",
       "      <td>88.889999</td>\n",
       "      <td>87.540001</td>\n",
       "      <td>88.209999</td>\n",
       "      <td>82.224754</td>\n",
       "    </tr>\n",
       "    <tr>\n",
       "      <th>2019-12-13</th>\n",
       "      <td>88.019997</td>\n",
       "      <td>88.790001</td>\n",
       "      <td>87.580002</td>\n",
       "      <td>88.669998</td>\n",
       "      <td>82.653557</td>\n",
       "    </tr>\n",
       "    <tr>\n",
       "      <th>2019-12-16</th>\n",
       "      <td>89.139999</td>\n",
       "      <td>89.300003</td>\n",
       "      <td>88.430000</td>\n",
       "      <td>88.779999</td>\n",
       "      <td>82.756088</td>\n",
       "    </tr>\n",
       "    <tr>\n",
       "      <th>2019-12-17</th>\n",
       "      <td>88.870003</td>\n",
       "      <td>88.970001</td>\n",
       "      <td>87.470001</td>\n",
       "      <td>88.129997</td>\n",
       "      <td>82.150185</td>\n",
       "    </tr>\n",
       "    <tr>\n",
       "      <th>...</th>\n",
       "      <td>...</td>\n",
       "      <td>...</td>\n",
       "      <td>...</td>\n",
       "      <td>...</td>\n",
       "      <td>...</td>\n",
       "    </tr>\n",
       "    <tr>\n",
       "      <th>2020-12-04</th>\n",
       "      <td>101.349998</td>\n",
       "      <td>102.940002</td>\n",
       "      <td>101.070000</td>\n",
       "      <td>102.279999</td>\n",
       "      <td>97.306427</td>\n",
       "    </tr>\n",
       "    <tr>\n",
       "      <th>2020-12-07</th>\n",
       "      <td>102.010002</td>\n",
       "      <td>102.220001</td>\n",
       "      <td>100.690002</td>\n",
       "      <td>101.410004</td>\n",
       "      <td>96.478737</td>\n",
       "    </tr>\n",
       "    <tr>\n",
       "      <th>2020-12-08</th>\n",
       "      <td>100.370003</td>\n",
       "      <td>101.570000</td>\n",
       "      <td>100.010002</td>\n",
       "      <td>101.209999</td>\n",
       "      <td>96.288452</td>\n",
       "    </tr>\n",
       "    <tr>\n",
       "      <th>2020-12-09</th>\n",
       "      <td>101.940002</td>\n",
       "      <td>102.209999</td>\n",
       "      <td>100.099998</td>\n",
       "      <td>100.400002</td>\n",
       "      <td>95.517845</td>\n",
       "    </tr>\n",
       "    <tr>\n",
       "      <th>2020-12-10</th>\n",
       "      <td>103.510002</td>\n",
       "      <td>106.089996</td>\n",
       "      <td>102.750000</td>\n",
       "      <td>105.389999</td>\n",
       "      <td>100.265205</td>\n",
       "    </tr>\n",
       "  </tbody>\n",
       "</table>\n",
       "<p>253 rows × 5 columns</p>\n",
       "</div>"
      ],
      "text/plain": [
       "                  Open        High         Low       Close   Adj Close\n",
       "Date                                                                  \n",
       "2019-12-11   86.260002   86.870003   85.849998   86.589996   80.714676\n",
       "2019-12-12   88.000000   88.889999   87.540001   88.209999   82.224754\n",
       "2019-12-13   88.019997   88.790001   87.580002   88.669998   82.653557\n",
       "2019-12-16   89.139999   89.300003   88.430000   88.779999   82.756088\n",
       "2019-12-17   88.870003   88.970001   87.470001   88.129997   82.150185\n",
       "...                ...         ...         ...         ...         ...\n",
       "2020-12-04  101.349998  102.940002  101.070000  102.279999   97.306427\n",
       "2020-12-07  102.010002  102.220001  100.690002  101.410004   96.478737\n",
       "2020-12-08  100.370003  101.570000  100.010002  101.209999   96.288452\n",
       "2020-12-09  101.940002  102.209999  100.099998  100.400002   95.517845\n",
       "2020-12-10  103.510002  106.089996  102.750000  105.389999  100.265205\n",
       "\n",
       "[253 rows x 5 columns]"
      ]
     },
     "execution_count": 9,
     "metadata": {},
     "output_type": "execute_result"
    }
   ],
   "source": [
    "df.iloc[:, :-1] # every row with columns except the last column \n",
    "# df.loc[:, :\"Adj Close\"] # loc is inclusive on both ends"
   ]
  },
  {
   "cell_type": "code",
   "execution_count": 10,
   "metadata": {},
   "outputs": [],
   "source": [
    "# df.iloc[:, -1:] # selecting the last column\n",
    "# df.iloc[:, 5:6] # iloc is exclusive\n"
   ]
  },
  {
   "cell_type": "code",
   "execution_count": 11,
   "metadata": {},
   "outputs": [],
   "source": [
    "# Separating data and labels\n",
    "X = df.iloc[:, :-1]\n",
    "y = df.iloc[:, 5:6]"
   ]
  },
  {
   "attachments": {},
   "cell_type": "markdown",
   "metadata": {},
   "source": [
    "- StandardScalar for the features, mean 0 and standard deviation 1: (X - mean)/ sd\n",
    "    - This ensures that our features have a standard distribution and they are on a similar scale\n",
    "    - The features will be **centered around zero and have similar scales**, **making them more comparable and potentially improving the performance** of machine learning algorithms that are **sensitive to feature scaling**\n",
    "---\n",
    "- MinMaxScalar for output values, (x - min) / (max - min)\n",
    "    - Beneficial where preserving the original range or distribution of the feature is important\n",
    "    - The normalization process ensures that all the features have a similar scale and bounded within a specific range\n",
    "> With this the value will be scaled between 0 and 1"
   ]
  },
  {
   "cell_type": "code",
   "execution_count": 12,
   "metadata": {},
   "outputs": [],
   "source": [
    "# ! pip install scikit-learn"
   ]
  },
  {
   "cell_type": "code",
   "execution_count": 13,
   "metadata": {},
   "outputs": [],
   "source": [
    "from sklearn.preprocessing import StandardScaler, MinMaxScaler"
   ]
  },
  {
   "cell_type": "code",
   "execution_count": 14,
   "metadata": {},
   "outputs": [],
   "source": [
    "mm = MinMaxScaler()\n",
    "ss = StandardScaler()"
   ]
  },
  {
   "cell_type": "code",
   "execution_count": 15,
   "metadata": {},
   "outputs": [],
   "source": [
    "X_ss= ss.fit_transform(X)\n",
    "y_mm = mm.fit_transform(y)"
   ]
  },
  {
   "cell_type": "code",
   "execution_count": 16,
   "metadata": {},
   "outputs": [
    {
     "data": {
      "text/plain": [
       "(array([[0.46501033, 0.43644414, 0.51542403, 0.49614696, 0.39551652],\n",
       "        [0.6539359 , 0.66267575, 0.69038876, 0.67120687, 0.56533573],\n",
       "        [0.65610714, 0.65147637, 0.69453003, 0.72091504, 0.61355773],\n",
       "        [0.77771476, 0.70859458, 0.78252968, 0.73280192, 0.62508808],\n",
       "        [0.74839912, 0.67163566, 0.68314171, 0.66256174, 0.5569499 ],\n",
       "        [0.69628123, 0.65819579, 0.71937685, 0.64743324, 0.54227412],\n",
       "        [0.63547785, 0.62907659, 0.69453003, 0.70470572, 0.59783261],\n",
       "        [0.73971266, 0.67499543, 0.72662379, 0.69822224, 0.59154198],\n",
       "        [0.72125461, 0.65819579, 0.75664737, 0.67336854, 0.56743272],\n",
       "        [0.67565119, 0.63019678, 0.73801211, 0.70470572, 0.59783261]]),\n",
       "                  Open       High        Low      Close  Adj Close\n",
       " Date                                                             \n",
       " 2019-12-11  86.260002  86.870003  85.849998  86.589996  80.714676\n",
       " 2019-12-12  88.000000  88.889999  87.540001  88.209999  82.224754\n",
       " 2019-12-13  88.019997  88.790001  87.580002  88.669998  82.653557\n",
       " 2019-12-16  89.139999  89.300003  88.430000  88.779999  82.756088\n",
       " 2019-12-17  88.870003  88.970001  87.470001  88.129997  82.150185\n",
       " 2019-12-18  88.389999  88.849998  87.820000  87.989998  82.019684\n",
       " 2019-12-19  87.830002  88.589996  87.580002  88.519997  82.513725\n",
       " 2019-12-20  88.790001  89.000000  87.889999  88.459999  82.457787\n",
       " 2019-12-23  88.620003  88.849998  88.180000  88.230003  82.243401\n",
       " 2019-12-24  88.199997  88.599998  88.000000  88.519997  82.513725)"
      ]
     },
     "execution_count": 16,
     "metadata": {},
     "output_type": "execute_result"
    }
   ],
   "source": [
    "(X_ss[:10], X[:10])"
   ]
  },
  {
   "cell_type": "code",
   "execution_count": 17,
   "metadata": {},
   "outputs": [
    {
     "data": {
      "text/plain": [
       "(array([[0.11418203],\n",
       "        [0.31327722],\n",
       "        [0.18075014],\n",
       "        [0.18043443],\n",
       "        [0.20239722],\n",
       "        [0.14899639],\n",
       "        [0.15504702],\n",
       "        [0.46145646],\n",
       "        [0.09292867],\n",
       "        [0.        ]]),\n",
       "               Volume\n",
       " Date                \n",
       " 2019-12-11   4921900\n",
       " 2019-12-12  10282100\n",
       " 2019-12-13   6714100\n",
       " 2019-12-16   6705600\n",
       " 2019-12-17   7296900\n",
       " 2019-12-18   5859200\n",
       " 2019-12-19   6022100\n",
       " 2019-12-20  14271500\n",
       " 2019-12-23   4349700\n",
       " 2019-12-24   1847800)"
      ]
     },
     "execution_count": 17,
     "metadata": {},
     "output_type": "execute_result"
    }
   ],
   "source": [
    "(y_mm[:10], y[:10])"
   ]
  },
  {
   "attachments": {},
   "cell_type": "markdown",
   "metadata": {},
   "source": [
    "# Splitting the dataset into 2 parts, training and testing\n",
    "- The data is sequential so the order matters, hence we will split the dataset"
   ]
  },
  {
   "cell_type": "code",
   "execution_count": 18,
   "metadata": {},
   "outputs": [],
   "source": [
    "# first 200 for training\n",
    "\n",
    "X_train = X_ss[:200, :]\n",
    "X_test = X_ss[200:, :]\n",
    "\n",
    "y_train = y_mm[:200, :]\n",
    "y_test = y_mm[200:, :]"
   ]
  },
  {
   "cell_type": "code",
   "execution_count": 19,
   "metadata": {},
   "outputs": [
    {
     "data": {
      "text/plain": [
       "(253, 5)"
      ]
     },
     "execution_count": 19,
     "metadata": {},
     "output_type": "execute_result"
    }
   ],
   "source": [
    "X.shape"
   ]
  },
  {
   "cell_type": "code",
   "execution_count": 20,
   "metadata": {},
   "outputs": [
    {
     "name": "stdout",
     "output_type": "stream",
     "text": [
      "Training Shape (200, 5) (200, 1)\n",
      "Testing Shape (53, 5) (53, 1)\n"
     ]
    }
   ],
   "source": [
    "print(\"Training Shape\", X_train.shape, y_train.shape)\n",
    "print(\"Testing Shape\", X_test.shape, y_test.shape)"
   ]
  },
  {
   "attachments": {},
   "cell_type": "markdown",
   "metadata": {},
   "source": [
    "# Changing the numpy arrays into Tensors\n",
    "- Pytorch works with tensors"
   ]
  },
  {
   "cell_type": "code",
   "execution_count": 25,
   "metadata": {},
   "outputs": [],
   "source": [
    "# ! pip3 install torch --index-url https://download.pytorch.org/whl/cu118"
   ]
  },
  {
   "cell_type": "code",
   "execution_count": 27,
   "metadata": {},
   "outputs": [],
   "source": [
    "import torch\n",
    "import torch.nn as nn\n",
    "from torch.autograd import Variable # Variabled can be differentiated"
   ]
  },
  {
   "cell_type": "code",
   "execution_count": 29,
   "metadata": {},
   "outputs": [],
   "source": [
    "# X_train_tensors = Variable(torch.Tensor(X_train))\n",
    "# X_test_tensors = Variable(torch.Tensor(X_test))\n",
    "X_train_tensors = Variable(torch.Tensor(X_train))\n",
    "X_test_tensors = Variable(torch.Tensor(X_test))\n",
    "\n",
    "y_train_tensors = Variable(torch.Tensor(y_train))\n",
    "y_test_tensors = Variable(torch.Tensor(y_test))"
   ]
  },
  {
   "attachments": {},
   "cell_type": "markdown",
   "metadata": {},
   "source": [
    "# Check the input Format of an LSTM\n",
    "- Since LSTM is specially built for sequential data, it cannot take in simple 2-D data as input\n",
    "- They need to have the timestamp information with them too\n",
    "- We need to have input at each timestamp"
   ]
  },
  {
   "cell_type": "code",
   "execution_count": 30,
   "metadata": {},
   "outputs": [],
   "source": [
    "# reshaping to rows, timestamps, features"
   ]
  },
  {
   "cell_type": "code",
   "execution_count": null,
   "metadata": {},
   "outputs": [],
   "source": []
  }
 ],
 "metadata": {
  "kernelspec": {
   "display_name": "venv",
   "language": "python",
   "name": "python3"
  },
  "language_info": {
   "codemirror_mode": {
    "name": "ipython",
    "version": 3
   },
   "file_extension": ".py",
   "mimetype": "text/x-python",
   "name": "python",
   "nbconvert_exporter": "python",
   "pygments_lexer": "ipython3",
   "version": "3.9.12"
  },
  "orig_nbformat": 4
 },
 "nbformat": 4,
 "nbformat_minor": 2
}
